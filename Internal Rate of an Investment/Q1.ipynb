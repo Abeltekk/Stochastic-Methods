{
 "cells": [
  {
   "cell_type": "code",
   "execution_count": 92,
   "metadata": {},
   "outputs": [
    {
     "name": "stdout",
     "output_type": "stream",
     "text": [
      "\n",
      "\n",
      "*** BISECTION METHOD IMPLEMENTATION ***\n",
      "The value of root is :  0.1328\n",
      "1000 evaluation take 2.0699997548945248e-05 s\n"
     ]
    }
   ],
   "source": [
    "from pylab import *\n",
    "\n",
    "n = 300\n",
    "cf = 120.0 * arange(10,n+10)\n",
    "p = 15000.0             \n",
    "\n",
    "i= array(arange(1, n+1))\n",
    "\n",
    "def cfunction(r):\n",
    "    x = 1/(1+r)\n",
    "    return (dot(cf, x**i)-p)\n",
    "\n",
    "print('\\n\\n*** BISECTION METHOD IMPLEMENTATION ***') \n",
    "\n",
    "def f():\n",
    "    def bisection(a,b): \n",
    "  \n",
    "        if (cfunction(a) * cfunction(b) >= 0): \n",
    "            print(\"You have not assumed right a and b\\n\") \n",
    "            return\n",
    "   \n",
    "        c = a \n",
    "        while ((b-a) >= 0.01): \n",
    "  \n",
    "            # Find middle point \n",
    "            c = (a+b)/2\n",
    "   \n",
    "            # Check if middle point is root \n",
    "            if (cfunction(c) == 0.0): \n",
    "                break\n",
    "   \n",
    "            # Decide the side to repeat the steps \n",
    "            if (cfunction(c)*cfunction(a) < 0): \n",
    "                b = c \n",
    "            else: \n",
    "                a = c \n",
    "              \n",
    "    print(\"The value of root is : \",\"%.4f\"%c) \n",
    "\n",
    "a= 0\n",
    "b= 1.0\n",
    "bisection(a,b)\n",
    "\n",
    "import timeit\n",
    "t=timeit.Timer('f', 'from __main__ import f')\n",
    "print(\"1000 evaluation take\", t.timeit(number=1000), \"s\")\n",
    "      "
   ]
  },
  {
   "cell_type": "code",
   "execution_count": 2,
   "metadata": {},
   "outputs": [
    {
     "name": "stdout",
     "output_type": "stream",
     "text": [
      "\n",
      "\n",
      "*** NEWTON RAPHSON METHOD IMPLEMENTATION ***\n",
      "The root at the 50 th iteration  is equal to: xp_50 = 0.138\n",
      "1000 evaluation take 0.0827927999999929 s\n"
     ]
    }
   ],
   "source": [
    "from pylab import *\n",
    "from scipy.misc import derivative\n",
    "\n",
    "\n",
    "n = 300\n",
    "cf = 120.0 * arange(10,n+10)\n",
    "p = 15000.0             \n",
    "\n",
    "i= array(arange(1, n+1))\n",
    "x_n= 0.15\n",
    "#declare starting point\n",
    "\n",
    "r= np.linspace(0,1,100)\n",
    "\n",
    "def cfunction(r):\n",
    "    x = 1/(1+r)\n",
    "    return (dot(cf, x**i)-p)\n",
    "\n",
    "print('\\n\\n*** NEWTON RAPHSON METHOD IMPLEMENTATION ***')\n",
    "def next_val_x(cfunction, r, x_n):\n",
    "    \n",
    "    slope= derivative(cfunction, x_n, dx=0.1)\n",
    "    return x_n - (cfunction(x_n)/slope)\n",
    "\n",
    "for n in range(50):\n",
    "    x_n= next_val_x(cfunction, r, x_n)\n",
    "\n",
    "print('The root at the', n+1,'th iteration  is equal to: ''xp_{} = {:.3f}'. format(n+1, x_n))\n",
    "\n",
    "import timeit\n",
    "t=timeit.Timer('next_val_x(cfunction, r, x_n)', 'from __main__ import next_val_x, cfunction, r, x_n')\n",
    "print(\"1000 evaluation take\", t.timeit(number=1000), \"s\")"
   ]
  },
  {
   "cell_type": "code",
   "execution_count": 96,
   "metadata": {},
   "outputs": [
    {
     "name": "stdout",
     "output_type": "stream",
     "text": [
      "\n",
      "\n",
      "*** SECANT METHOD IMPLEMENTATION ***\n",
      "\n",
      " Required root is: 0.13797959\n"
     ]
    }
   ],
   "source": [
    "from pylab import *\n",
    "import math\n",
    "\n",
    "\n",
    "n = 300\n",
    "cf = 120.0 * arange(10,n+10)\n",
    "p = 15000.0             \n",
    "\n",
    "i= array(arange(1, n+1))\n",
    "\n",
    "def f(r):\n",
    "    xp = 1/(1+r)\n",
    "    return (dot(cf, xp**i)-p)\n",
    "\n",
    "print('\\n\\n*** SECANT METHOD IMPLEMENTATION ***')\n",
    "\n",
    "\n",
    "def secant(x0,x1,e,N):\n",
    "   \n",
    "    step = 1\n",
    "    condition = True\n",
    "    while condition:\n",
    "        if f(x0) == f(x1):\n",
    "            print('Divide by zero error!')\n",
    "            break\n",
    "        \n",
    "        x2 = x0 - (x1-x0)*f(x0)/( f(x1) - f(x0) ) \n",
    "        \n",
    "        x0 = x1\n",
    "        x1 = x2\n",
    "        step = step + 1\n",
    "        \n",
    "        if step > N:\n",
    "            print('Not Convergent!')\n",
    "            break\n",
    "        \n",
    "        condition = abs(f(x2)) > e\n",
    "    print('\\n Required root is: %0.8f' % x2)\n",
    "    \n",
    "# guesses of values\n",
    "x0 = 0\n",
    "x1 = 0.2\n",
    "e = 0.00001 #value of epsilon\n",
    "N = 50 #number of iterations\n",
    "\n",
    "\n",
    "secant(x0,x1,e,N)\n",
    "\n"
   ]
  },
  {
   "cell_type": "code",
   "execution_count": 77,
   "metadata": {},
   "outputs": [
    {
     "name": "stdout",
     "output_type": "stream",
     "text": [
      "\n",
      "\n",
      "*** BRENT METHOD IMPLEMENTATION ***\n",
      "root is equal to 0.1380\n",
      "1000 evaluation take 1.4400000509340316e-05 s\n"
     ]
    }
   ],
   "source": [
    "from pylab import *\n",
    "from scipy import optimize\n",
    "\n",
    "n = 300\n",
    "cf = 120.0 * arange(10,n+10)\n",
    "p = 15000.0                 \n",
    "\n",
    "i= array(arange(1, n+1))\n",
    "\n",
    "print('\\n\\n*** BRENT METHOD IMPLEMENTATION ***')\n",
    "def f():\n",
    "    def cfunction(r):\n",
    "        x = 1/(1+r)\n",
    "        return (dot(cf, x**i)-p)\n",
    "\n",
    "root = optimize.brentq(cfunction, 0,1)\n",
    "print(\"root is equal to\", '{:.4f}'.format(root))\n",
    "\n",
    "import timeit\n",
    "\n",
    "t=timeit.Timer('f', 'from __main__ import f')\n",
    "print(\"1000 evaluation take\", t.timeit(number=1000), \"s\")"
   ]
  },
  {
   "cell_type": "code",
   "execution_count": null,
   "metadata": {},
   "outputs": [],
   "source": []
  }
 ],
 "metadata": {
  "kernelspec": {
   "display_name": "Python 3",
   "language": "python",
   "name": "python3"
  },
  "language_info": {
   "codemirror_mode": {
    "name": "ipython",
    "version": 3
   },
   "file_extension": ".py",
   "mimetype": "text/x-python",
   "name": "python",
   "nbconvert_exporter": "python",
   "pygments_lexer": "ipython3",
   "version": "3.8.3"
  }
 },
 "nbformat": 4,
 "nbformat_minor": 4
}
