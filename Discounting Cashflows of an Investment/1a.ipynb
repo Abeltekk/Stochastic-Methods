{
 "cells": [
  {
   "cell_type": "code",
   "execution_count": 105,
   "metadata": {},
   "outputs": [
    {
     "name": "stdout",
     "output_type": "stream",
     "text": [
      "1000 evaluation take 3.04000004689442e-05 s\n",
      "The prsent value of the discounted cashflows equals:  7185271.349713663 dollars.\n"
     ]
    }
   ],
   "source": [
    "from pylab import *\n",
    "import timeit\n",
    "\n",
    "\n",
    "cf =  120.0 * arange(500,1200)           \n",
    "r = 0.01   \n",
    "\n",
    "\n",
    "def f():\n",
    "    present_val=0\n",
    "    for i in range(1, len(cf)):\n",
    "        present_val+=cf[i] * (1/(1+r)**(i+1))\n",
    "    #here i tried to sum up all cashflows starting from the second one to the last\n",
    "    present_val+=cf[0]*(1/(1+r))\n",
    "    #for this i specifically added the first cashflow i left out earlier\n",
    "    return (present_val)\n",
    "\n",
    "import timeit\n",
    "t=timeit.Timer('f', 'from __main__ import f')\n",
    "print(\"1000 evaluation take\", t.timeit(number=1000), \"s\")\n",
    "\n",
    "\n",
    "print(\"The prsent value of the discounted cashflows equals: \", f(), \"dollars.\")\n"
   ]
  },
  {
   "cell_type": "code",
   "execution_count": null,
   "metadata": {},
   "outputs": [],
   "source": []
  },
  {
   "cell_type": "code",
   "execution_count": null,
   "metadata": {},
   "outputs": [],
   "source": []
  },
  {
   "cell_type": "code",
   "execution_count": null,
   "metadata": {},
   "outputs": [],
   "source": []
  },
  {
   "cell_type": "code",
   "execution_count": null,
   "metadata": {},
   "outputs": [],
   "source": []
  }
 ],
 "metadata": {
  "kernelspec": {
   "display_name": "Python 3",
   "language": "python",
   "name": "python3"
  },
  "language_info": {
   "codemirror_mode": {
    "name": "ipython",
    "version": 3
   },
   "file_extension": ".py",
   "mimetype": "text/x-python",
   "name": "python",
   "nbconvert_exporter": "python",
   "pygments_lexer": "ipython3",
   "version": "3.8.3"
  }
 },
 "nbformat": 4,
 "nbformat_minor": 4
}
