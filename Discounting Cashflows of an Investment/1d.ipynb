{
 "cells": [
  {
   "cell_type": "code",
   "execution_count": 18,
   "metadata": {},
   "outputs": [
    {
     "name": "stdout",
     "output_type": "stream",
     "text": [
      "1000 evaluation take 2.0400000721565448e-05 s\n",
      "The prsent value of the discounted cashflows equals:  7185271.349713667\n"
     ]
    }
   ],
   "source": [
    "from pylab import *\n",
    "import time\n",
    "\n",
    "\n",
    "cf =  120.0 * arange(500,1200)           \n",
    "r = 0.01   \n",
    "x = 1/(1+r)\n",
    "n= len(cf)\n",
    "\n",
    "i= array(arange(1, n+1))\n",
    "\n",
    "def f():\n",
    "    xy = x**i\n",
    "    pv=dot(cf, xy)\n",
    "    return(pv)\n",
    "\n",
    "import timeit\n",
    "t=timeit.Timer('f', 'from __main__ import f')\n",
    "print(\"1000 evaluation take\", t.timeit(number=1000), \"s\")\n",
    "\n",
    "\n",
    "print(\"The prsent value of the discounted cashflows equals: \", f())\n",
    "\n"
   ]
  },
  {
   "cell_type": "code",
   "execution_count": null,
   "metadata": {},
   "outputs": [],
   "source": []
  },
  {
   "cell_type": "code",
   "execution_count": null,
   "metadata": {},
   "outputs": [],
   "source": []
  }
 ],
 "metadata": {
  "kernelspec": {
   "display_name": "Python 3",
   "language": "python",
   "name": "python3"
  },
  "language_info": {
   "codemirror_mode": {
    "name": "ipython",
    "version": 3
   },
   "file_extension": ".py",
   "mimetype": "text/x-python",
   "name": "python",
   "nbconvert_exporter": "python",
   "pygments_lexer": "ipython3",
   "version": "3.8.3"
  }
 },
 "nbformat": 4,
 "nbformat_minor": 4
}
