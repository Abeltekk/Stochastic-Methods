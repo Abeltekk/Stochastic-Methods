{
 "cells": [
  {
   "cell_type": "code",
   "execution_count": 26,
   "metadata": {},
   "outputs": [
    {
     "name": "stdout",
     "output_type": "stream",
     "text": [
      "1000 evaluation take 0.31305350000002363 s\n",
      "7185271.3497136645\n"
     ]
    }
   ],
   "source": [
    "from pylab import *\n",
    "\n",
    "\n",
    "cf =  120.0 * arange(500,1200)           \n",
    "r = 0.01   \n",
    "x = 1/(1+r)\n",
    "\n",
    "def horner(cf,x):\n",
    "    p=0\n",
    "    for i in cf[-1::-1]:\n",
    "        p = p*(x)+i\n",
    "    return p*x\n",
    "\n",
    "import timeit\n",
    "t=timeit.Timer('horner(cf,x)', 'from __main__ import horner, cf, x')\n",
    "print(\"1000 evaluation take\", t.timeit(number=1000), \"s\")\n",
    "\n",
    "\n",
    "\n",
    "\n",
    "print(horner(cf, x))\n",
    "\n",
    "\n"
   ]
  },
  {
   "cell_type": "code",
   "execution_count": null,
   "metadata": {},
   "outputs": [],
   "source": []
  },
  {
   "cell_type": "code",
   "execution_count": null,
   "metadata": {},
   "outputs": [],
   "source": []
  }
 ],
 "metadata": {
  "kernelspec": {
   "display_name": "Python 3",
   "language": "python",
   "name": "python3"
  },
  "language_info": {
   "codemirror_mode": {
    "name": "ipython",
    "version": 3
   },
   "file_extension": ".py",
   "mimetype": "text/x-python",
   "name": "python",
   "nbconvert_exporter": "python",
   "pygments_lexer": "ipython3",
   "version": "3.8.3"
  }
 },
 "nbformat": 4,
 "nbformat_minor": 4
}
