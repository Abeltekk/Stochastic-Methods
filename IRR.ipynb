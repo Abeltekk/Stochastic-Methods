{
 "cells": [
  {
   "cell_type": "code",
   "execution_count": 12,
   "metadata": {},
   "outputs": [
    {
     "name": "stdout",
     "output_type": "stream",
     "text": [
      "The IRR is equal to 1.98 percent.\n"
     ]
    }
   ],
   "source": [
    "from pylab import *\n",
    "from scipy import optimize\n",
    "\n",
    "n = 10\n",
    "#n= input(\"Enter the amount of years: \")\n",
    "cf = 120.0 * arange(42,52)\n",
    "#user can assign cashflows \n",
    "p = 50000.0   \n",
    "#p= input(\"Please enter the price of the investment: \")\n",
    "\n",
    "i= array(arange(1, n+1))\n",
    "\n",
    "def cfunction(r):\n",
    "     x = 1/(1+r)\n",
    "     return (dot(cf, x**i)-p)\n",
    "\n",
    "root = optimize.brentq(cfunction, 0,1)\n",
    "\n",
    "print(\"The IRR is equal to\", \"{:.2f}\".format(root*100), \"percent.\")\n",
    "\n",
    "\n"
   ]
  },
  {
   "cell_type": "code",
   "execution_count": null,
   "metadata": {},
   "outputs": [],
   "source": []
  }
 ],
 "metadata": {
  "kernelspec": {
   "display_name": "Python 3",
   "language": "python",
   "name": "python3"
  },
  "language_info": {
   "codemirror_mode": {
    "name": "ipython",
    "version": 3
   },
   "file_extension": ".py",
   "mimetype": "text/x-python",
   "name": "python",
   "nbconvert_exporter": "python",
   "pygments_lexer": "ipython3",
   "version": "3.8.3"
  }
 },
 "nbformat": 4,
 "nbformat_minor": 4
}
