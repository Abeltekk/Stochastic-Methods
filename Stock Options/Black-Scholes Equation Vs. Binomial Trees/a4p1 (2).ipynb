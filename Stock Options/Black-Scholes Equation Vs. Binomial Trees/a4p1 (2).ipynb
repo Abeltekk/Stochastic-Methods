{
 "cells": [
  {
   "cell_type": "code",
   "execution_count": 2,
   "metadata": {},
   "outputs": [
    {
     "data": {
      "image/png": "[encoded data removed]",
      "text/plain": [
       "<Figure size 432x288 with 1 Axes>"
      ]
     },
     "metadata": {
      "needs_background": "light"
     },
     "output_type": "display_data"
    }
   ],
   "source": [
    "from pylab import *\n",
    "import numpy \n",
    "from scipy.stats import norm\n",
    "\n",
    "\n",
    "def binomial_tree(payoff, n, rp, sigma, S, K, T, array_out=False):\n",
    "    #Initial parameters\n",
    "    dt= T/n\n",
    "    u= numpy.exp(sigma*numpy.sqrt(dt))\n",
    "    d= 1/u\n",
    "    p= (numpy.exp(rp*dt)-d)/(u-d)\n",
    "    \n",
    "    #price tree\n",
    "    \n",
    "    price_tree=numpy.zeros([n+1,n+1])\n",
    "    \n",
    "    for i in range (n+1):\n",
    "        for j in range (i+1):\n",
    "            price_tree[j,i]= S*(d**j)*(u**(i-j))\n",
    "    #option value\n",
    "    option= numpy.zeros([n+1, n+1])\n",
    "    option[:,n] = numpy.maximum(numpy.zeros(n+1), price_tree[:,n]-K)\n",
    "    \n",
    "    #calculate option price at t=0\n",
    "    for i in numpy.arange(n-1, -1, -1):\n",
    "        for j in numpy.arange(0, i+1):\n",
    "            option[j,i]= numpy.exp(-rp*dt)*(p*option[j,i+1]+(1-p)*option[j+1,i+1])\n",
    "            \n",
    "    if array_out:\n",
    "        return [option[0,0], price_tree, option]\n",
    "    else:\n",
    "        return option[0,0]\n",
    "\n",
    "def payoff(S, K):\n",
    "    return np.maximum(0, S - K)\n",
    "    \n",
    "\n",
    "def black_scholes(S, K, sigma, rp, T):\n",
    "    \n",
    "    x= (log(S/K)+ (rp+ (sigma**2)/2)*T)/(sigma*numpy.sqrt(T))\n",
    "    \n",
    "    return S*norm.cdf(x) - K*numpy.exp(-rp*T)*norm.cdf(x-sigma*numpy.sqrt(T))\n",
    "\n",
    "def error(n):\n",
    "    return binomial_tree(payoff=payoff, n= n, rp=0.03, sigma=0.5, S=1, K=1.2, T=1)- \\\n",
    "    black_scholes(rp=0.03, sigma=0.5, S=1, K=1.2, T=1)\n",
    "\n",
    "\n",
    "import matplotlib.pyplot as plt\n",
    "figure()\n",
    "arr = []\n",
    "error_arr = []\n",
    "for n in range(1,100, 1):\n",
    "    arr += [n]\n",
    "    error_arr += [abs(error(n))]\n",
    "plt.loglog(arr,error_arr)\n",
    "plt.xlabel('n')\n",
    "plt.ylabel('Error')\n",
    "show()\n",
    "\n",
    "\"\"\"Discussion\n",
    "    The plot shows that the logarithm of the error constantly decreases according to the increment of n. However, my \n",
    "    implementation causes an oscillation of errors, and the plot shows a repeated pattern of butterflies. This pattern\n",
    "    can be used to accelerate the computing, i.e. with small n, as shown on th plot when n is around 100, the binomial\n",
    "    tree method already gets pretty good result, and we thus don't need higher n steps, which saves much computing time.\n",
    "    \"\"\""
   ]
  },
  {
   "cell_type": "code",
   "execution_count": null,
   "metadata": {},
   "outputs": [],
   "source": []
  }
 ],
 "metadata": {
  "kernelspec": {
   "display_name": "Python 3",
   "language": "python",
   "name": "python3"
  },
  "language_info": {
   "codemirror_mode": {
    "name": "ipython",
    "version": 3
   },
   "file_extension": ".py",
   "mimetype": "text/x-python",
   "name": "python",
   "nbconvert_exporter": "python",
   "pygments_lexer": "ipython3",
   "version": "3.8.3"
  }
 },
 "nbformat": 4,
 "nbformat_minor": 4
}
