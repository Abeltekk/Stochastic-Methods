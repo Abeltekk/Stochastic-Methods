{
 "cells": [
  {
   "cell_type": "code",
   "execution_count": 2,
   "metadata": {},
   "outputs": [
    {
     "name": "stdout",
     "output_type": "stream",
     "text": [
      "0.3669188312249191\n"
     ]
    }
   ],
   "source": [
    "from pylab import *\n",
    "import numpy \n",
    "\n",
    "def binomial_tree(payoff, n, rp, sigma, S, K, T, array_out=False):\n",
    "    #Initial parameters\n",
    "    dt= T/n\n",
    "    u= numpy.exp(sigma*numpy.sqrt(dt))\n",
    "    d= 1/u\n",
    "    p= (numpy.exp(rp*dt)-d)/(u-d)\n",
    "    \n",
    "    #price tree\n",
    "    price_tree=numpy.zeros([n+1,n+1])\n",
    "    \n",
    "    for i in range (n+1):\n",
    "        for j in range (i+1):\n",
    "            price_tree[j,i]= S*(d**j)*(u**(i-j))\n",
    "    #option value\n",
    "    option= numpy.zeros([n+1, n+1])\n",
    "    option[:,n] = numpy.maximum(numpy.zeros(n+1), price_tree[:,n]-K)\n",
    "    \n",
    "    #calculate option price at t=0\n",
    "    for i in numpy.arange(n-1, -1, -1):\n",
    "        for j in numpy.arange(0, i+1):\n",
    "            option[j,i]= numpy.exp(-rp*dt)*(p*option[j,i+1]+(1-p)*option[j+1,i+1])\n",
    "            \n",
    "    if array_out:\n",
    "        return [option[0,0], price_tree, option]\n",
    "    else:\n",
    "        return option[0,0]\n",
    "\n",
    "def payoff(S, K):\n",
    "    return np.maximum(0, S - K)\n",
    "    \n",
    "print(binomial_tree(payoff=payoff, n=1000, rp=0.02, sigma=0.5, S=1, K=0.7, T=1)) "
   ]
  },
  {
   "cell_type": "code",
   "execution_count": null,
   "metadata": {},
   "outputs": [],
   "source": []
  }
 ],
 "metadata": {
  "kernelspec": {
   "display_name": "Python 3",
   "language": "python",
   "name": "python3"
  },
  "language_info": {
   "codemirror_mode": {
    "name": "ipython",
    "version": 3
   },
   "file_extension": ".py",
   "mimetype": "text/x-python",
   "name": "python",
   "nbconvert_exporter": "python",
   "pygments_lexer": "ipython3",
   "version": "3.8.3"
  }
 },
 "nbformat": 4,
 "nbformat_minor": 4
}
