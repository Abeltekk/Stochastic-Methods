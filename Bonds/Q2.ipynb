{
 "cells": [
  {
   "cell_type": "code",
   "execution_count": 5,
   "metadata": {},
   "outputs": [
    {
     "name": "stdout",
     "output_type": "stream",
     "text": [
      "The yield is equal to 14.98 percent.\n"
     ]
    }
   ],
   "source": [
    "from pylab import *\n",
    "from scipy import optimize\n",
    "\n",
    "n = 10\n",
    "#user can set his own value\n",
    "c= 0.1\n",
    "p = 0.75   \n",
    "# price of the bond w.r.t par value\n",
    "\n",
    "i= array(arange(1, n+1))\n",
    "\n",
    "def cfunction(r):\n",
    "   return ((c/r) + (1- (c/r))/(1+r)**n) -p \n",
    "\n",
    "yield_ = optimize.brentq(cfunction, 0.00000001,1)\n",
    "print(\"The yield is equal to\", '{:.2f}'.format(yield_*100), \"percent.\")\n"
   ]
  },
  {
   "cell_type": "code",
   "execution_count": null,
   "metadata": {},
   "outputs": [],
   "source": []
  },
  {
   "cell_type": "code",
   "execution_count": null,
   "metadata": {},
   "outputs": [],
   "source": []
  }
 ],
 "metadata": {
  "kernelspec": {
   "display_name": "Python 3",
   "language": "python",
   "name": "python3"
  },
  "language_info": {
   "codemirror_mode": {
    "name": "ipython",
    "version": 3
   },
   "file_extension": ".py",
   "mimetype": "text/x-python",
   "name": "python",
   "nbconvert_exporter": "python",
   "pygments_lexer": "ipython3",
   "version": "3.8.3"
  }
 },
 "nbformat": 4,
 "nbformat_minor": 4
}
